{
  "nbformat": 4,
  "nbformat_minor": 0,
  "metadata": {
    "colab": {
      "provenance": [],
      "authorship_tag": "ABX9TyPwYSd2Kx13Qi2F9ixzrfYl",
      "include_colab_link": true
    },
    "kernelspec": {
      "name": "python3",
      "display_name": "Python 3"
    },
    "language_info": {
      "name": "python"
    }
  },
  "cells": [
    {
      "cell_type": "markdown",
      "metadata": {
        "id": "view-in-github",
        "colab_type": "text"
      },
      "source": [
        "<a href=\"https://colab.research.google.com/github/palak00007/ml-lab/blob/main/ml_lab1.ipynb\" target=\"_parent\"><img src=\"https://colab.research.google.com/assets/colab-badge.svg\" alt=\"Open In Colab\"/></a>"
      ]
    },
    {
      "cell_type": "code",
      "execution_count": null,
      "metadata": {
        "id": "F719M4k0_Nt4"
      },
      "outputs": [],
      "source": [
        "import numpy as np\n",
        "lst1=[1,2,3]\n",
        "array1 = np.array(lst1)"
      ]
    },
    {
      "cell_type": "code",
      "source": [
        "type(lst1)"
      ],
      "metadata": {
        "colab": {
          "base_uri": "https://localhost:8080/"
        },
        "id": "jV_sgNRC_TdO",
        "outputId": "19669ffe-d16d-4bfd-bd61-2d6d1e505488"
      },
      "execution_count": null,
      "outputs": [
        {
          "output_type": "execute_result",
          "data": {
            "text/plain": [
              "list"
            ]
          },
          "metadata": {},
          "execution_count": 2
        }
      ]
    },
    {
      "cell_type": "code",
      "source": [
        "\n",
        "type(array1)"
      ],
      "metadata": {
        "colab": {
          "base_uri": "https://localhost:8080/"
        },
        "id": "Exf0iKQsA3NB",
        "outputId": "1abdf0ae-9be9-442b-cf3a-641fcd6d5640"
      },
      "execution_count": null,
      "outputs": [
        {
          "output_type": "execute_result",
          "data": {
            "text/plain": [
              "numpy.ndarray"
            ]
          },
          "metadata": {},
          "execution_count": 3
        }
      ]
    },
    {
      "cell_type": "code",
      "source": [
        "lst2=[10,11,12]\n",
        "array2 = np.array(lst2)"
      ],
      "metadata": {
        "id": "OYQpRENaBEgQ"
      },
      "execution_count": null,
      "outputs": []
    },
    {
      "cell_type": "code",
      "source": [
        "print(f\"Adding two lists {lst1} and {lst2} together: {lst1+lst2}\")"
      ],
      "metadata": {
        "colab": {
          "base_uri": "https://localhost:8080/"
        },
        "id": "X_6o0tDMBKdo",
        "outputId": "fd425a7a-0a10-4eda-db18-b761b468f71b"
      },
      "execution_count": null,
      "outputs": [
        {
          "output_type": "stream",
          "name": "stdout",
          "text": [
            "Adding two lists [1, 2, 3] and [10, 11, 12] together: [1, 2, 3, 10, 11, 12]\n"
          ]
        }
      ]
    },
    {
      "cell_type": "code",
      "source": [
        "print(f\"Adding two numpy arrays {array1} and {array2} together: {array1+array2}\")"
      ],
      "metadata": {
        "colab": {
          "base_uri": "https://localhost:8080/"
        },
        "id": "uQu8mqV3BjS5",
        "outputId": "20262adc-c4d2-4520-9f01-ff3d9c860d5d"
      },
      "execution_count": null,
      "outputs": [
        {
          "output_type": "stream",
          "name": "stdout",
          "text": [
            "Adding two numpy arrays [1 2 3] and [10 11 12] together: [11 13 15]\n"
          ]
        }
      ]
    },
    {
      "cell_type": "code",
      "source": [
        "print(\"array2 multiplied by array1: \",array1*array2)\n",
        "print(\"array2 divided by array1: \",array2/array1)\n",
        "print(\"array2 raised to the power of array1: \",array2**array1)"
      ],
      "metadata": {
        "colab": {
          "base_uri": "https://localhost:8080/"
        },
        "id": "C8-up5c9BqlJ",
        "outputId": "be03d206-76c8-44d6-bd75-e298fe97960b"
      },
      "execution_count": null,
      "outputs": [
        {
          "output_type": "stream",
          "name": "stdout",
          "text": [
            "array2 multiplied by array1:  [10 22 36]\n",
            "array2 divided by array1:  [10.   5.5  4. ]\n",
            "array2 raised to the power of array1:  [  10  121 1728]\n"
          ]
        }
      ]
    },
    {
      "cell_type": "code",
      "source": [
        "# sine function\n",
        "print(\"Sine: \",np.sin(array1))\n",
        "# logarithm\n",
        "print(\"Natural logarithm: \",np.log(array1))\n",
        "print(\"Base-10 logarithm: \",np.log10(array1))\n",
        "print(\"Base-2 logarithm: \",np.log2(array1))\n",
        "# Exponential\n",
        "print(\"Exponential: \",np.exp(array1))"
      ],
      "metadata": {
        "colab": {
          "base_uri": "https://localhost:8080/"
        },
        "id": "qg8W8cQdB_Pg",
        "outputId": "34b25768-3690-45f0-e2ad-1f8669715965"
      },
      "execution_count": null,
      "outputs": [
        {
          "output_type": "stream",
          "name": "stdout",
          "text": [
            "Sine:  [0.84147098 0.90929743 0.14112001]\n",
            "Natural logarithm:  [0.         0.69314718 1.09861229]\n",
            "Base-10 logarithm:  [0.         0.30103    0.47712125]\n",
            "Base-2 logarithm:  [0.        1.        1.5849625]\n",
            "Exponential:  [ 2.71828183  7.3890561  20.08553692]\n"
          ]
        }
      ]
    },
    {
      "cell_type": "code",
      "source": [
        "print(\"A series of zeroes:\",np.zeros(7))\n",
        "print(\"A series of ones:\",np.ones(9))\n",
        "print(\"A series of numbers:\",np.arange(5,16))\n",
        "print(\"Numbers spaced apart by 2:\",np.arange(0,11,2))\n",
        "print(\"Numbers spaced apart by float:\",np.arange(0,11,2.5))\n",
        "print(\"Every 5th number from 30 in reverse order: \",np.arange(30,-1,-5))\n",
        "print(\"11 linearly spaced numbers between 1 and 5: \",np.linspace(1,5,11))"
      ],
      "metadata": {
        "colab": {
          "base_uri": "https://localhost:8080/"
        },
        "id": "FeHUjE2VCHcx",
        "outputId": "aad86c83-0c52-4285-caa1-9f0c02e77c92"
      },
      "execution_count": null,
      "outputs": [
        {
          "output_type": "stream",
          "name": "stdout",
          "text": [
            "A series of zeroes: [0. 0. 0. 0. 0. 0. 0.]\n",
            "A series of ones: [1. 1. 1. 1. 1. 1. 1. 1. 1.]\n",
            "A series of numbers: [ 5  6  7  8  9 10 11 12 13 14 15]\n",
            "Numbers spaced apart by 2: [ 0  2  4  6  8 10]\n",
            "Numbers spaced apart by float: [ 0.   2.5  5.   7.5 10. ]\n",
            "Every 5th number from 30 in reverse order:  [30 25 20 15 10  5  0]\n",
            "11 linearly spaced numbers between 1 and 5:  [1.  1.4 1.8 2.2 2.6 3.  3.4 3.8 4.2 4.6 5. ]\n"
          ]
        }
      ]
    },
    {
      "cell_type": "code",
      "source": [
        "my_mat = [[1,2,3],[4,5,6],[7,8,9]]\n",
        "mat = np.array(my_mat)\n",
        "print(\"Type/Class of this object:\",type(mat))\n",
        "print(\"Here is the matrix\\n----------\\n\",mat,\"\\n----------\")"
      ],
      "metadata": {
        "colab": {
          "base_uri": "https://localhost:8080/"
        },
        "id": "ZpUoYfiVCaG4",
        "outputId": "49df2738-3acf-43b5-f3a0-e69373cb61f3"
      },
      "execution_count": null,
      "outputs": [
        {
          "output_type": "stream",
          "name": "stdout",
          "text": [
            "Type/Class of this object: <class 'numpy.ndarray'>\n",
            "Here is the matrix\n",
            "----------\n",
            " [[1 2 3]\n",
            " [4 5 6]\n",
            " [7 8 9]] \n",
            "----------\n"
          ]
        }
      ]
    },
    {
      "cell_type": "code",
      "source": [
        "my_tuple = np.array([(1.5,2,3), (4,5,6)])\n",
        "mat_tuple = np.array(my_tuple)\n",
        "print (mat_tuple)"
      ],
      "metadata": {
        "colab": {
          "base_uri": "https://localhost:8080/"
        },
        "id": "ag3myldiCjko",
        "outputId": "4d82fef6-d754-438d-a070-ceb89155e8d7"
      },
      "execution_count": null,
      "outputs": [
        {
          "output_type": "stream",
          "name": "stdout",
          "text": [
            "[[1.5 2.  3. ]\n",
            " [4.  5.  6. ]]\n"
          ]
        }
      ]
    },
    {
      "cell_type": "code",
      "source": [
        "print(\"Dimension of this matrix: \",mat.ndim,sep='')\n",
        "print(\"Size of this matrix: \", mat.size,sep='')\n",
        "print(\"Shape of this matrix: \", mat.shape,sep='')\n",
        "print(\"Data type of this matrix: \", mat.dtype,sep='')"
      ],
      "metadata": {
        "colab": {
          "base_uri": "https://localhost:8080/"
        },
        "id": "w9MwWDS8CpCx",
        "outputId": "a778df82-7441-4323-8f03-366bfbb89116"
      },
      "execution_count": null,
      "outputs": [
        {
          "output_type": "stream",
          "name": "stdout",
          "text": [
            "Dimension of this matrix: 2\n",
            "Size of this matrix: 9\n",
            "Shape of this matrix: (3, 3)\n",
            "Data type of this matrix: int64\n"
          ]
        }
      ]
    },
    {
      "cell_type": "code",
      "source": [
        "print(\"Vector of zeros: \",np.zeros(5))\n",
        "print(\"Matrix of zeros: \",np.zeros((3,4)))\n",
        "print(\"Vector of ones: \",np.ones(4))\n",
        "print(\"Matrix of ones: \",np.ones((4,2)))\n",
        "print(\"Matrix of 5’s: \",5*np.ones((3,3)))\n",
        "print(\"Identity matrix of dimension 2:\",np.eye(2))\n",
        "print(\"Identity matrix of dimension 4:\",np.eye(4))\n",
        "print(\"Random matrix of shape (4,3):\\n\",np.random.randint(low=1,high=10,size=(4,3)))"
      ],
      "metadata": {
        "colab": {
          "base_uri": "https://localhost:8080/"
        },
        "id": "xJz7yxjDCujw",
        "outputId": "3cda8bd5-d4b9-4180-bb78-45d8755f1c62"
      },
      "execution_count": null,
      "outputs": [
        {
          "output_type": "stream",
          "name": "stdout",
          "text": [
            "Vector of zeros:  [0. 0. 0. 0. 0.]\n",
            "Matrix of zeros:  [[0. 0. 0. 0.]\n",
            " [0. 0. 0. 0.]\n",
            " [0. 0. 0. 0.]]\n",
            "Vector of ones:  [1. 1. 1. 1.]\n",
            "Matrix of ones:  [[1. 1.]\n",
            " [1. 1.]\n",
            " [1. 1.]\n",
            " [1. 1.]]\n",
            "Matrix of 5’s:  [[5. 5. 5.]\n",
            " [5. 5. 5.]\n",
            " [5. 5. 5.]]\n",
            "Identity matrix of dimension 2: [[1. 0.]\n",
            " [0. 1.]]\n",
            "Identity matrix of dimension 4: [[1. 0. 0. 0.]\n",
            " [0. 1. 0. 0.]\n",
            " [0. 0. 1. 0.]\n",
            " [0. 0. 0. 1.]]\n",
            "Random matrix of shape (4,3):\n",
            " [[1 4 5]\n",
            " [9 8 3]\n",
            " [6 3 7]\n",
            " [2 8 2]]\n"
          ]
        }
      ]
    },
    {
      "cell_type": "code",
      "source": [
        "a = np.random.randint(1,100,30)\n",
        "b = a.reshape(2,3,5)\n",
        "c = a.reshape(6,5)\n",
        "print (\"Shape of a:\", a.shape)\n",
        "print (\"Shape of b:\", b.shape)\n",
        "print (\"Shape of c:\", c.shape)"
      ],
      "metadata": {
        "colab": {
          "base_uri": "https://localhost:8080/"
        },
        "id": "kmTP7TkNCz_5",
        "outputId": "cd9189b7-0d90-47f4-bf56-5ffd5724567d"
      },
      "execution_count": null,
      "outputs": [
        {
          "output_type": "stream",
          "name": "stdout",
          "text": [
            "Shape of a: (30,)\n",
            "Shape of b: (2, 3, 5)\n",
            "Shape of c: (6, 5)\n"
          ]
        }
      ]
    },
    {
      "cell_type": "code",
      "source": [
        "print(\"\\na looks like:\\n\",a)\n",
        "print(\"\\nb looks like:\\n\",b)\n",
        "print(\"\\nc looks like:\\n\",c)\n"
      ],
      "metadata": {
        "colab": {
          "base_uri": "https://localhost:8080/"
        },
        "id": "SXbVnSImC5oR",
        "outputId": "234c4582-159e-46b4-f22c-7fd16ef79582"
      },
      "execution_count": null,
      "outputs": [
        {
          "output_type": "stream",
          "name": "stdout",
          "text": [
            "\n",
            "a looks like:\n",
            " [61 47 82 64 42 91 27 57 31 40 91 21 79 21  1 52 12 99  3 48 82 36 36 17\n",
            " 50 78  9 33  3 23]\n",
            "\n",
            "b looks like:\n",
            " [[[61 47 82 64 42]\n",
            "  [91 27 57 31 40]\n",
            "  [91 21 79 21  1]]\n",
            "\n",
            " [[52 12 99  3 48]\n",
            "  [82 36 36 17 50]\n",
            "  [78  9 33  3 23]]]\n",
            "\n",
            "c looks like:\n",
            " [[61 47 82 64 42]\n",
            " [91 27 57 31 40]\n",
            " [91 21 79 21  1]\n",
            " [52 12 99  3 48]\n",
            " [82 36 36 17 50]\n",
            " [78  9 33  3 23]]\n"
          ]
        }
      ]
    },
    {
      "cell_type": "code",
      "source": [
        "b_flat = b.ravel()\n",
        "print(b_flat)"
      ],
      "metadata": {
        "colab": {
          "base_uri": "https://localhost:8080/"
        },
        "id": "13v9v19RDDjh",
        "outputId": "75061670-d7fb-4548-b356-1f4afc83432e"
      },
      "execution_count": null,
      "outputs": [
        {
          "output_type": "stream",
          "name": "stdout",
          "text": [
            "[61 47 82 64 42 91 27 57 31 40 91 21 79 21  1 52 12 99  3 48 82 36 36 17\n",
            " 50 78  9 33  3 23]\n"
          ]
        }
      ]
    },
    {
      "cell_type": "code",
      "source": [
        "arr = np.arange(0,11)\n",
        "print(\"Array:\",arr)\n",
        "print(\"Element at 7th index is:\", arr[7])\n",
        "print(\"Elements from 3rd to 5th index are:\", arr[3:6])\n",
        "print(\"Elements up to 4th index are:\", arr[:4])\n",
        "print(\"Elements from last backwards are:\", arr[-1::-1])\n",
        "print(\"3 Elements from last backwards are:\", arr[-1:-6:-2])\n",
        "\n",
        "arr2 = np.arange(0,21,2)\n",
        "print(\"New array:\",arr2)\n",
        "print(\"Elements at 2nd, 4th, and 9th index are:\", arr2[[2,4,9]]) # Pass a list as a index to subset"
      ],
      "metadata": {
        "colab": {
          "base_uri": "https://localhost:8080/"
        },
        "id": "QwtYrqM-DPro",
        "outputId": "e75cf0e9-a546-4a9f-8057-bc644129b8e0"
      },
      "execution_count": null,
      "outputs": [
        {
          "output_type": "stream",
          "name": "stdout",
          "text": [
            "Array: [ 0  1  2  3  4  5  6  7  8  9 10]\n",
            "Element at 7th index is: 7\n",
            "Elements from 3rd to 5th index are: [3 4 5]\n",
            "Elements up to 4th index are: [0 1 2 3]\n",
            "Elements from last backwards are: [10  9  8  7  6  5  4  3  2  1  0]\n",
            "3 Elements from last backwards are: [10  8  6]\n",
            "New array: [ 0  2  4  6  8 10 12 14 16 18 20]\n",
            "Elements at 2nd, 4th, and 9th index are: [ 4  8 18]\n"
          ]
        }
      ]
    },
    {
      "cell_type": "code",
      "source": [
        "mat = np.random.randint(10,100,15).reshape(3,5)\n",
        "print(\"Matrix of random 2-digit numbers\\n\",mat)\n",
        "\n",
        "print(\"\\nDouble bracket indexing\\n\")\n",
        "print(\"Element in row index 1 and column index 2:\", mat[1][2])\n",
        "\n",
        "print(\"\\nSingle bracket with comma indexing\\n\")\n",
        "print(\"Element in row index 1 and column index 2:\", mat[1,2])\n",
        "print(\"\\nRow or column extract\\n\")\n",
        "\n",
        "print(\"Entire row at index 2:\", mat[2])\n",
        "print(\"Entire column at index 3:\", mat[:,3])\n",
        "\n",
        "print(\"\\nSubsetting sub-matrices\\n\")\n",
        "print(\"Matrix with row indices 1 and 2 and column indices 3 and 4\\n\", mat[1:3,3:5])\n",
        "print(\"Matrix with row indices 0 and 1 and column indices 1 and 3\\n\", mat[0:2,[1,3]])"
      ],
      "metadata": {
        "colab": {
          "base_uri": "https://localhost:8080/"
        },
        "id": "oJ_24iT0DSjQ",
        "outputId": "361f7c8c-b3bd-4d53-c8d5-8719bfee9370"
      },
      "execution_count": null,
      "outputs": [
        {
          "output_type": "stream",
          "name": "stdout",
          "text": [
            "Matrix of random 2-digit numbers\n",
            " [[23 69 62 19 93]\n",
            " [57 42 69 91 99]\n",
            " [84 48 95 34 21]]\n",
            "\n",
            "Double bracket indexing\n",
            "\n",
            "Element in row index 1 and column index 2: 69\n",
            "\n",
            "Single bracket with comma indexing\n",
            "\n",
            "Element in row index 1 and column index 2: 69\n",
            "\n",
            "Row or column extract\n",
            "\n",
            "Entire row at index 2: [84 48 95 34 21]\n",
            "Entire column at index 3: [19 91 34]\n",
            "\n",
            "Subsetting sub-matrices\n",
            "\n",
            "Matrix with row indices 1 and 2 and column indices 3 and 4\n",
            " [[91 99]\n",
            " [34 21]]\n",
            "Matrix with row indices 0 and 1 and column indices 1 and 3\n",
            " [[69 19]\n",
            " [42 91]]\n"
          ]
        }
      ]
    },
    {
      "cell_type": "code",
      "source": [
        "mat = np.random.randint(10,100,15).reshape(3,5)\n",
        "print(\"Matrix of random 2-digit numbers\\n\",mat)\n",
        "print (\"\\nElements greater than 50\\n\", mat[mat>50])"
      ],
      "metadata": {
        "colab": {
          "base_uri": "https://localhost:8080/"
        },
        "id": "ph97f4-bDYRw",
        "outputId": "64cd3295-3f49-4df3-ed59-6a6a2fea0b44"
      },
      "execution_count": null,
      "outputs": [
        {
          "output_type": "stream",
          "name": "stdout",
          "text": [
            "Matrix of random 2-digit numbers\n",
            " [[90 97 39 63 15]\n",
            " [36 11 12 29 22]\n",
            " [98 47 17 50 46]]\n",
            "\n",
            "Elements greater than 50\n",
            " [90 97 63 98]\n"
          ]
        }
      ]
    },
    {
      "cell_type": "code",
      "source": [
        "mat>50"
      ],
      "metadata": {
        "colab": {
          "base_uri": "https://localhost:8080/"
        },
        "id": "2A-Bc1fDDdxY",
        "outputId": "c884e6bd-ee93-48b7-f257-5ce1ddbf4bd1"
      },
      "execution_count": null,
      "outputs": [
        {
          "output_type": "execute_result",
          "data": {
            "text/plain": [
              "array([[False,  True,  True, False,  True],\n",
              "       [ True, False,  True,  True,  True],\n",
              "       [ True, False,  True, False, False]])"
            ]
          },
          "metadata": {},
          "execution_count": 20
        }
      ]
    },
    {
      "cell_type": "code",
      "source": [
        "mat*(mat>50)"
      ],
      "metadata": {
        "colab": {
          "base_uri": "https://localhost:8080/"
        },
        "id": "_hzB3vbLDlyq",
        "outputId": "b5c553aa-d4c5-41f1-e57d-b46d2853edc1"
      },
      "execution_count": null,
      "outputs": [
        {
          "output_type": "execute_result",
          "data": {
            "text/plain": [
              "array([[90, 97,  0, 63,  0],\n",
              "       [ 0,  0,  0,  0,  0],\n",
              "       [98,  0,  0,  0,  0]])"
            ]
          },
          "metadata": {},
          "execution_count": 21
        }
      ]
    },
    {
      "cell_type": "code",
      "source": [
        "mat1 = np.random.randint(1,10,9).reshape(3,3)\n",
        "mat2 = np.random.randint(1,10,9).reshape(3,3)\n",
        "print(\"\\n1st Matrix of random single-digit numbers\\n\",mat1)\n",
        "print(\"\\n2nd Matrix of random single-digit numbers\\n\",mat2)\n",
        "\n",
        "print(\"\\nAddition\\n\", mat1+mat2)\n",
        "print(\"\\nMultiplication\\n\", mat1*mat2)\n",
        "print(\"\\nDivision\\n\", mat1/mat2)\n",
        "print(\"\\nLineaer combination: 3*A - 2*B\\n\", 3*mat1-2*mat2)\n",
        "\n",
        "print(\"\\nAddition of a scalar (100)\\n\", 100+mat1)\n",
        "\n",
        "print(\"\\nExponentiation, matrix cubed here\\n\", mat1**3)\n",
        "print(\"\\nExponentiation, sq-root using pow function\\n\",pow(mat1,0.5))"
      ],
      "metadata": {
        "colab": {
          "base_uri": "https://localhost:8080/"
        },
        "id": "dBXs2PjKDoXB",
        "outputId": "200ac472-c298-4979-c1ed-7c388f73ae11"
      },
      "execution_count": null,
      "outputs": [
        {
          "output_type": "stream",
          "name": "stdout",
          "text": [
            "\n",
            "1st Matrix of random single-digit numbers\n",
            " [[6 6 2]\n",
            " [7 4 2]\n",
            " [7 4 2]]\n",
            "\n",
            "2nd Matrix of random single-digit numbers\n",
            " [[8 3 9]\n",
            " [4 3 2]\n",
            " [9 7 4]]\n",
            "\n",
            "Addition\n",
            " [[14  9 11]\n",
            " [11  7  4]\n",
            " [16 11  6]]\n",
            "\n",
            "Multiplication\n",
            " [[48 18 18]\n",
            " [28 12  4]\n",
            " [63 28  8]]\n",
            "\n",
            "Division\n",
            " [[0.75       2.         0.22222222]\n",
            " [1.75       1.33333333 1.        ]\n",
            " [0.77777778 0.57142857 0.5       ]]\n",
            "\n",
            "Lineaer combination: 3*A - 2*B\n",
            " [[  2  12 -12]\n",
            " [ 13   6   2]\n",
            " [  3  -2  -2]]\n",
            "\n",
            "Addition of a scalar (100)\n",
            " [[106 106 102]\n",
            " [107 104 102]\n",
            " [107 104 102]]\n",
            "\n",
            "Exponentiation, matrix cubed here\n",
            " [[216 216   8]\n",
            " [343  64   8]\n",
            " [343  64   8]]\n",
            "\n",
            "Exponentiation, sq-root using pow function\n",
            " [[2.44948974 2.44948974 1.41421356]\n",
            " [2.64575131 2.         1.41421356]\n",
            " [2.64575131 2.         1.41421356]]\n"
          ]
        }
      ]
    },
    {
      "cell_type": "code",
      "source": [
        "import pandas as pd\n"
      ],
      "metadata": {
        "id": "nQayzo0jDyph"
      },
      "execution_count": null,
      "outputs": []
    },
    {
      "cell_type": "code",
      "source": [
        "labels = ['a','b','c']\n",
        "my_data = [10,20,30]\n",
        "arr = np.array(my_data)\n",
        "d = {'a':10,'b':20,'c':30}\n",
        "\n",
        "print (\"Labels:\", labels)\n",
        "print(\"My data:\", my_data)\n",
        "print(\"Dictionary:\", d)"
      ],
      "metadata": {
        "colab": {
          "base_uri": "https://localhost:8080/"
        },
        "id": "aRITfAAQD_fI",
        "outputId": "1c711ff8-3f31-4d6f-83f7-a7c740480ad1"
      },
      "execution_count": null,
      "outputs": [
        {
          "output_type": "stream",
          "name": "stdout",
          "text": [
            "Labels: ['a', 'b', 'c']\n",
            "My data: [10, 20, 30]\n",
            "Dictionary: {'a': 10, 'b': 20, 'c': 30}\n"
          ]
        }
      ]
    },
    {
      "cell_type": "code",
      "source": [
        "s1=pd.Series(data=my_data)\n",
        "print(s1)"
      ],
      "metadata": {
        "colab": {
          "base_uri": "https://localhost:8080/"
        },
        "id": "WE2Fo6IkEIRg",
        "outputId": "df8e88b3-fdb2-4a20-dc39-fc55dfa4a65f"
      },
      "execution_count": null,
      "outputs": [
        {
          "output_type": "stream",
          "name": "stdout",
          "text": [
            "0    10\n",
            "1    20\n",
            "2    30\n",
            "dtype: int64\n"
          ]
        }
      ]
    },
    {
      "cell_type": "code",
      "source": [
        "s2=pd.Series(data=my_data, index=labels)\n",
        "print(s2)"
      ],
      "metadata": {
        "colab": {
          "base_uri": "https://localhost:8080/"
        },
        "id": "9NmrsPCFEPn5",
        "outputId": "5ef482ed-a8f5-49c3-94ac-28d3c147812c"
      },
      "execution_count": null,
      "outputs": [
        {
          "output_type": "stream",
          "name": "stdout",
          "text": [
            "a    10\n",
            "b    20\n",
            "c    30\n",
            "dtype: int64\n"
          ]
        }
      ]
    },
    {
      "cell_type": "code",
      "source": [
        "s3=pd.Series(arr, labels)\n",
        "print(s3)"
      ],
      "metadata": {
        "colab": {
          "base_uri": "https://localhost:8080/"
        },
        "id": "ihOe5vs_EUuJ",
        "outputId": "99aae89f-bf2d-45f4-e022-6b523d1975e3"
      },
      "execution_count": null,
      "outputs": [
        {
          "output_type": "stream",
          "name": "stdout",
          "text": [
            "a    10\n",
            "b    20\n",
            "c    30\n",
            "dtype: int64\n"
          ]
        }
      ]
    },
    {
      "cell_type": "code",
      "source": [
        "s4=pd.Series(d)\n",
        "print(s4)"
      ],
      "metadata": {
        "colab": {
          "base_uri": "https://localhost:8080/"
        },
        "id": "OfCeXzd3EZ-p",
        "outputId": "f81cdbcd-38aa-42ef-8279-dd6445e25484"
      },
      "execution_count": null,
      "outputs": [
        {
          "output_type": "stream",
          "name": "stdout",
          "text": [
            "a    10\n",
            "b    20\n",
            "c    30\n",
            "dtype: int64\n"
          ]
        }
      ]
    },
    {
      "cell_type": "code",
      "source": [
        "matrix_data = np.random.randint(1,20,size=20).reshape(5,4)\n",
        "row_labels = ['A','B','C','D','E']\n",
        "column_headings = ['W','X','Y','Z']\n",
        "\n",
        "df = pd.DataFrame(data=matrix_data, index=row_labels, columns=column_headings)\n",
        "print(\"\\nThe data frame looks like\\n\",'-'*45, sep='')\n",
        "print(df)"
      ],
      "metadata": {
        "colab": {
          "base_uri": "https://localhost:8080/"
        },
        "id": "kHW5-oW4Ee4p",
        "outputId": "f305fd41-1656-4e9e-fc49-35efff9423ac"
      },
      "execution_count": null,
      "outputs": [
        {
          "output_type": "stream",
          "name": "stdout",
          "text": [
            "\n",
            "The data frame looks like\n",
            "---------------------------------------------\n",
            "    W   X   Y   Z\n",
            "A  14   2  15   9\n",
            "B  12  13  12  10\n",
            "C  19  18   5   5\n",
            "D  12   1   5  13\n",
            "E  19  18  19  15\n"
          ]
        }
      ]
    },
    {
      "cell_type": "code",
      "source": [
        "d={'a':[10,20],'b':[30,40],'c':[50,60]}\n",
        "df2=pd.DataFrame(data=d,index=['X','Y'])\n",
        "print(df2)"
      ],
      "metadata": {
        "colab": {
          "base_uri": "https://localhost:8080/"
        },
        "id": "FjCw9jBYEk-R",
        "outputId": "af8bf8f7-293d-43f9-ecd1-34c525c25320"
      },
      "execution_count": null,
      "outputs": [
        {
          "output_type": "stream",
          "name": "stdout",
          "text": [
            "    a   b   c\n",
            "X  10  30  50\n",
            "Y  20  40  60\n"
          ]
        }
      ]
    }
  ]
}